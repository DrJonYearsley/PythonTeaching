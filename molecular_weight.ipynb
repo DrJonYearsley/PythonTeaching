{
 "cells": [
  {
   "cell_type": "markdown",
   "metadata": {},
   "source": [
    "# Decoding a chemical formula\n",
    "\n",
    "Script takes a string, which is a chemical formula, \n",
    "and converts this into the molecular weight of the molecule."
   ]
  },
  {
   "cell_type": "code",
   "execution_count": 1,
   "metadata": {},
   "outputs": [],
   "source": [
    "str = \"C12H6O2\""
   ]
  },
  {
   "cell_type": "markdown",
   "metadata": {},
   "source": [
    "Split the string just before each element (i.e. each captial letter)"
   ]
  },
  {
   "cell_type": "code",
   "execution_count": 2,
   "metadata": {},
   "outputs": [],
   "source": [
    "import re       # Load Regular Expression library"
   ]
  },
  {
   "cell_type": "code",
   "execution_count": 3,
   "metadata": {},
   "outputs": [],
   "source": [
    "# Define some atomic masses\n",
    "atomic_mass = {'H': 1.01, 'He':4.0026, 'C': 12.011, 'O': 15.9994, 'Cl':35.453, 'N': 14.0067}"
   ]
  },
  {
   "cell_type": "code",
   "execution_count": 4,
   "metadata": {},
   "outputs": [],
   "source": [
    "# Find indices that define the start of each new element in the formula\n",
    "elements = []\n",
    "for m in re.finditer('[A-Z]{1}[a-z]?',str):\n",
    "    elements.append(m.group())\n",
    "    \n",
    "    \n",
    "nAtom = re.split('[A-Z]{1}[a-z]?',str)\n",
    "nAtom.remove('')         # Remove first element\n",
    "\n",
    "# Replace blanks with 1\n",
    "for i in range(len(nAtom)):\n",
    "    if nAtom[i]=='':\n",
    "        nAtom[i] = '1'"
   ]
  },
  {
   "cell_type": "code",
   "execution_count": 6,
   "metadata": {},
   "outputs": [
    {
     "name": "stdout",
     "output_type": "stream",
     "text": [
      "C12H6O2  has a molecular mass of 182.1908  g\n"
     ]
    }
   ],
   "source": [
    "# Calculate the molecular mass of the molecule\n",
    "mol_mass = 0\n",
    "mol_comp = []\n",
    "for e in range(len(elements)):\n",
    "    mol_comp.append(atomic_mass[elements[e]] * float(nAtom[e]))\n",
    "    mol_mass += atomic_mass[elements[e]] * float(nAtom[e])\n",
    "    \n",
    "    \n",
    "print(str,' has a molecular mass of',mol_mass,' g')"
   ]
  },
  {
   "cell_type": "code",
   "execution_count": null,
   "metadata": {},
   "outputs": [],
   "source": []
  }
 ],
 "metadata": {
  "kernelspec": {
   "display_name": "Python 3",
   "language": "python",
   "name": "python3"
  },
  "language_info": {
   "codemirror_mode": {
    "name": "ipython",
    "version": 3
   },
   "file_extension": ".py",
   "mimetype": "text/x-python",
   "name": "python",
   "nbconvert_exporter": "python",
   "pygments_lexer": "ipython3",
   "version": "3.7.6"
  }
 },
 "nbformat": 4,
 "nbformat_minor": 2
}
