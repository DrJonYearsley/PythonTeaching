{
 "cells": [
  {
   "cell_type": "markdown",
   "metadata": {},
   "source": [
    "# Dilution problems\n",
    "\n",
    "A common laboratory skill is to create a solution with a desired concentration by diluting a stock solution with some amount of solvent. Given a stock solution with volume $V_1$ that has a concentration of solute $C_1$, the problem is to know how much solvent to add to arrive at the desired concentration, $C_2$.\n",
    "\n",
    "This volume can be calculated by realising that diluting the stock solution is not changing the amount of solute. The equation for this is, \n",
    "$$C_1 V_1 = C_2 V_2$$\n",
    "where $C_1 V_1$ is the amount of solute in the stock solution, $C_2 V_2$ is the amount of solute in the final solution and $V_2$ is the volume of the final solution. The amount of solvent to add to the stock solution is then $V_2 - V_1$."
   ]
  },
  {
   "cell_type": "markdown",
   "metadata": {},
   "source": [
    "Q1. You have 5 ml of a stock solution of ampicillin (a penicillin antibiotic) with a concentration of 100 mg/ml. You want to make a final ampicillin solution with a concentration of 25 mg/ml. Write a Python program to calculate the volume of solvent that should be added to the 5 ml of stock solution."
   ]
  },
  {
   "cell_type": "code",
   "execution_count": 2,
   "metadata": {},
   "outputs": [
    {
     "data": {
      "text/plain": [
       "15.0"
      ]
     },
     "execution_count": 2,
     "metadata": {},
     "output_type": "execute_result"
    }
   ],
   "source": [
    "# Dilution problem\n",
    "C1 = 100.0         # Concentration of stock solution (mg/ml)\n",
    "V1 = 5.0           # Volume of stock solution (ml)\n",
    "C2 = 25.0          # Desired concentration of final solution (mg/ml)\n",
    "\n",
    "V2 = C1 * V1 / C2  # Volume of final solution (ml)\n",
    "\n",
    "V2 - V1            # Volume of solvent to be added (ml)"
   ]
  },
  {
   "cell_type": "markdown",
   "metadata": {},
   "source": [
    "Q2. Write a Python program that creates a table of concentrations that would be produced by adding between 1 ml and 20 ml of solvent in steps of 1 ml to our 5 ml stock solution of ampicillin."
   ]
  },
  {
   "cell_type": "code",
   "execution_count": null,
   "metadata": {},
   "outputs": [],
   "source": [
    "C1 = 100.0           # Concentration of stock solution (mg/ml)\n",
    "V1 = 5.0             # Volume of stock solution (ml)\n",
    "\n",
    "# Non-numpy version ==========================================\n",
    "V = range(1,21);     # The volumes to add to the stock solution\n",
    "\n",
    "# Initialise C2 and loop over values of V\n",
    "C2 = []\n",
    "for v in range(len(V)):\n",
    "    C2.append(C1 * V1 / (V1 + V[v]))\n",
    "    \n",
    "    \n",
    "# Numpy version ==========================================\n",
    "import numpy as np\n",
    "\n",
    "V_np = np.linspace(1,20,20)\n",
    "C2_np = C1 * V1 / (V1 + V_np)\n",
    "\n",
    "# Then print the values in a table"
   ]
  },
  {
   "cell_type": "markdown",
   "metadata": {},
   "source": [
    "Q3. When a serial dilution is performed, the 5 ml stock solution of ampicillin is diluted with 15 ml of solvent, but then from this 5 ml is extracted and diluted again with 15 ml of solvent. This is repeated multiple times. Modify your program from question 2 to calculate the resulting concentrations from performing up to 10 serial dilutions."
   ]
  },
  {
   "cell_type": "code",
   "execution_count": null,
   "metadata": {},
   "outputs": [],
   "source": [
    "C1_ser = []\n",
    "C1_ser.append(100.0) # Concentration of stock solution (mg/ml)\n",
    "V1 = 5.0             # Volume of stock solution (ml)\n",
    "V = 15;              # Volume of solvent to add (ml)\n",
    "rounds = 10          # Number of rounds of dilution\n",
    "\n",
    "# Initialise C2 and loop over rounds of dilution\n",
    "C2_ser = []\n",
    "for v in range(rounds):\n",
    "    C2_ser.append(C1_ser[v] * V1 / (V1 + V))\n",
    "    C1_ser.append(C2_ser[v])\n",
    "    \n",
    "    \n",
    "# Numpy version ==========================================\n",
    "import numpy as np\n",
    "\n",
    "C1_ser_np = np.zeros(rounds+1)\n",
    "C1_ser_np[0] = 100\n",
    "for v in range(rounds):\n",
    "    C1_ser_np[v+1] = C1_ser_np[v] * V1 / (V1 + V)\n",
    "\n",
    "# Then print the values in a table"
   ]
  },
  {
   "cell_type": "markdown",
   "metadata": {},
   "source": [
    "Q4. Produce a graph that visualises the tables from question 2 and question 3. "
   ]
  },
  {
   "cell_type": "code",
   "execution_count": null,
   "metadata": {},
   "outputs": [],
   "source": [
    "import matplotlib.pyplot as plt\n",
    "\n",
    "# Plot results for question 2\n",
    "plt.figure(1)\n",
    "plt.plot(V1 + V_np, C2_np, '-k')\n",
    "\n",
    "\n",
    "plt.xlabel('Final Volume (ml)', fontsize=20)\n",
    "plt.ylabel('Concentration (mg/ml)', fontsize=20)\n",
    "plt.title('Question 2 dilutions', fontsize=20)\n",
    "\n",
    "\n",
    "# Plot results for question 3\n",
    "plt.figure(2)\n",
    "plt.plot(np.linspace(0, rounds,rounds+1), C1_ser_np, '-sk')\n",
    "\n",
    "\n",
    "plt.xlabel('Number of dilutions', fontsize=20)\n",
    "plt.ylabel('Concentration (mg/ml)', fontsize=20)\n",
    "plt.title('Question 3 serial dilutions', fontsize=20)\n",
    "\n",
    "plt.show()  # Display the plots"
   ]
  }
 ],
 "metadata": {
  "kernelspec": {
   "display_name": "Python 3",
   "language": "python",
   "name": "python3"
  },
  "language_info": {
   "codemirror_mode": {
    "name": "ipython",
    "version": 3
   },
   "file_extension": ".py",
   "mimetype": "text/x-python",
   "name": "python",
   "nbconvert_exporter": "python",
   "pygments_lexer": "ipython3",
   "version": "3.7.6"
  }
 },
 "nbformat": 4,
 "nbformat_minor": 2
}
