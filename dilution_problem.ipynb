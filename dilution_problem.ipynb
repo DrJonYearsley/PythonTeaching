{
 "cells": [
  {
   "cell_type": "markdown",
   "metadata": {},
   "source": [
    "# Dilution problems\n",
    "\n",
    "A common laboratory skill is to create a solution with a desired concentration by diluting a stock solution with some amount of solvent. Given a stock solution with volume $V_1$ that has a concentration of solute $C_1$, the problem is to know how much solvent to add to arrive at the desired concentration, $C_2$.\n",
    "\n",
    "This volume can be calculated by realising that diluting the stock solution is not changing the amount of solute. The equation for this is, \n",
    "$$C_1 V_1 = C_2 V_2$$\n",
    "where $C_1 V_1$ is the amount of solute in the stock solution, $C_2 V_2$ is the amount of solute in the final solution and $V_2$ is the volume of the final solution. The amount of solvent to add to the stock solution is then $V_2 - V_1$."
   ]
  },
  {
   "cell_type": "markdown",
   "metadata": {},
   "source": [
    "Q1. You have 5 ml of a stock solution of ampicillin (a penicillin antibiotic) with a concentration of 100 mg/ml. You want to make a final ampicillin solution with a concentration of 25 mg/ml. Write a Python program to calculate the volume of solvent that should be added to the 5 ml of stock solution."
   ]
  },
  {
   "cell_type": "code",
   "execution_count": 1,
   "metadata": {},
   "outputs": [
    {
     "data": {
      "text/plain": [
       "15.0"
      ]
     },
     "execution_count": 1,
     "metadata": {},
     "output_type": "execute_result"
    }
   ],
   "source": [
    "# Dilution problem\n",
    "C1 = 100.0         # Concentration of stock solution (mg/ml)\n",
    "V1 = 5.0           # Volume of stock solution (ml)\n",
    "C2 = 25.0          # Desired concentration of final solution (mg/ml)\n",
    "\n",
    "V2 = C1 * V1 / C2  # Volume of final solution (ml)\n",
    "\n",
    "V2 - V1            # Volume of solvent to be added (ml)"
   ]
  },
  {
   "cell_type": "markdown",
   "metadata": {},
   "source": [
    "Q2. Write a Python program that creates a table of concentrations that would be produced by adding between 1 ml and 20 ml of solvent in steps of 1 ml to our 5 ml stock solution of ampicillin."
   ]
  },
  {
   "cell_type": "code",
   "execution_count": 1,
   "metadata": {},
   "outputs": [
    {
     "name": "stdout",
     "output_type": "stream",
     "text": [
      "C1       V1     |  C2      V2\n",
      "-------------------------------\n",
      "100.00   5.00   |  83.33   6.00 \n",
      "100.00   5.00   |  71.43   7.00 \n",
      "100.00   5.00   |  62.50   8.00 \n",
      "100.00   5.00   |  55.56   9.00 \n",
      "100.00   5.00   |  50.00  10.00 \n",
      "100.00   5.00   |  45.45  11.00 \n",
      "100.00   5.00   |  41.67  12.00 \n",
      "100.00   5.00   |  38.46  13.00 \n",
      "100.00   5.00   |  35.71  14.00 \n",
      "100.00   5.00   |  33.33  15.00 \n",
      "100.00   5.00   |  31.25  16.00 \n",
      "100.00   5.00   |  29.41  17.00 \n",
      "100.00   5.00   |  27.78  18.00 \n",
      "100.00   5.00   |  26.32  19.00 \n",
      "100.00   5.00   |  25.00  20.00 \n",
      "100.00   5.00   |  23.81  21.00 \n",
      "100.00   5.00   |  22.73  22.00 \n",
      "100.00   5.00   |  21.74  23.00 \n",
      "100.00   5.00   |  20.83  24.00 \n",
      "100.00   5.00   |  20.00  25.00 \n"
     ]
    }
   ],
   "source": [
    "C1 = 100.0           # Concentration of stock solution (mg/ml)\n",
    "V1 = 5.0             # Volume of stock solution (ml)\n",
    "\n",
    "# Non-numpy version ==========================================\n",
    "V = range(1,21);     # The volumes to add to the stock solution\n",
    "\n",
    "# Initialise C2 and loop over values of V\n",
    "C2 = []\n",
    "for v in range(len(V)):\n",
    "    C2.append(C1 * V1 / (V1 + V[v]))\n",
    "    \n",
    "    \n",
    "# Numpy version ==========================================\n",
    "import numpy as np\n",
    "\n",
    "V_np = np.linspace(1,20,20)\n",
    "C2_np = C1 * V1 / (V1 + V_np)\n",
    "\n",
    "\n",
    "\n",
    "# Then print the values in a table=========================\n",
    "print('C1       V1     |  C2      V2')      # Table Header\n",
    "print('-------------------------------') \n",
    "for v in range(len(V)):\n",
    "    print('{0:5.2f}  {1:5.2f}   |  {2:5.2f}  {3:5.2f} '\n",
    "          .format(C1,V1,C2[v],V[v]+V1))"
   ]
  },
  {
   "cell_type": "markdown",
   "metadata": {},
   "source": [
    "Q3. When a serial dilution is performed, the 5 ml stock solution of ampicillin is diluted with 15 ml of solvent, but then from this 5 ml is extracted and diluted again with 15 ml of solvent. This is repeated multiple times. Modify your program from question 2 to calculate the resulting concentrations from performing up to 10 serial dilutions."
   ]
  },
  {
   "cell_type": "code",
   "execution_count": 2,
   "metadata": {},
   "outputs": [
    {
     "name": "stdout",
     "output_type": "stream",
     "text": [
      "Round  C1      C2\n",
      " 0     100.00  25.00\n",
      " 1     25.00   6.25\n",
      " 2      6.25   1.56\n",
      " 3      1.56   0.39\n",
      " 4      0.39   0.10\n",
      " 5      0.10   0.02\n",
      " 6      0.02   0.01\n",
      " 7      0.01   0.00\n",
      " 8      0.00   0.00\n",
      " 9      0.00   0.00\n"
     ]
    }
   ],
   "source": [
    "C1_ser = []\n",
    "C1_ser.append(100.0) # Concentration of stock solution (mg/ml)\n",
    "V1 = 5.0             # Volume of stock solution (ml)\n",
    "V = 15;              # Volume of solvent to add (ml)\n",
    "rounds = 10          # Number of rounds of dilution\n",
    "\n",
    "# Initialise C2 and loop over rounds of dilution\n",
    "C2_ser = []\n",
    "for v in range(rounds):\n",
    "    C2_ser.append(C1_ser[v] * V1 / (V1 + V))\n",
    "    C1_ser.append(C2_ser[v])\n",
    "        \n",
    "    \n",
    "    \n",
    "# Numpy version ==========================================\n",
    "import numpy as np\n",
    "\n",
    "C1_ser_np = np.zeros(rounds+1)\n",
    "C1_ser_np[0] = 100\n",
    "for v in range(rounds):\n",
    "    C1_ser_np[v+1] = C1_ser_np[v] * V1 / (V1 + V)\n",
    "\n",
    "    \n",
    "    \n",
    "# Then print the values in a table=========================\n",
    "print('Round  C1      C2')      # Table Header\n",
    "for v in range(rounds):\n",
    "    print('{0:2d}     {1:5.2f}  {2:5.2f}'\n",
    "          .format(v,C1_ser[v],C2_ser[v]))\n"
   ]
  },
  {
   "cell_type": "markdown",
   "metadata": {},
   "source": [
    "Q4. Produce a graph that visualises the tables from question 2 and question 3. "
   ]
  },
  {
   "cell_type": "code",
   "execution_count": 3,
   "metadata": {},
   "outputs": [
    {
     "data": {
      "image/png": "[encoded data removed]",
      "text/plain": [
       "<matplotlib.figure.Figure at 0x7f36fc09af28>"
      ]
     },
     "metadata": {
      "needs_background": "light"
     },
     "output_type": "display_data"
    },
    {
     "data": {
      "image/png": "[encoded data removed]",
      "text/plain": [
       "<matplotlib.figure.Figure at 0x7f36ed4e84a8>"
      ]
     },
     "metadata": {
      "needs_background": "light"
     },
     "output_type": "display_data"
    }
   ],
   "source": [
    "%matplotlib inline\n",
    "import matplotlib.pyplot as plt\n",
    "\n",
    "# Plot results for question 2\n",
    "plt.figure(1)\n",
    "plt.plot(V1 + V_np, C2_np, '-k')\n",
    "\n",
    "\n",
    "plt.xlabel('Final Volume (ml)', fontsize=20)\n",
    "plt.ylabel('Concentration (mg/ml)', fontsize=20)\n",
    "plt.title('Question 2 dilutions', fontsize=20)\n",
    "\n",
    "\n",
    "# Plot results for question 3\n",
    "plt.figure(2)\n",
    "plt.plot(np.linspace(0, rounds,rounds+1), C1_ser_np, '-sk')\n",
    "\n",
    "\n",
    "plt.xlabel('Number of dilutions', fontsize=20)\n",
    "plt.ylabel('Concentration (mg/ml)', fontsize=20)\n",
    "plt.title('Question 3 serial dilutions', fontsize=20)\n",
    "\n",
    "plt.show()  # Display the plots"
   ]
  },
  {
   "cell_type": "code",
   "execution_count": 7,
   "metadata": {},
   "outputs": [
    {
     "data": {
      "text/plain": [
       "[83.33333333333333,\n",
       " 71.42857142857143,\n",
       " 62.5,\n",
       " 55.55555555555556,\n",
       " 50.0,\n",
       " 45.45454545454545,\n",
       " 41.666666666666664,\n",
       " 38.46153846153846,\n",
       " 35.714285714285715,\n",
       " 33.333333333333336,\n",
       " 31.25,\n",
       " 29.41176470588235,\n",
       " 27.77777777777778,\n",
       " 26.31578947368421,\n",
       " 25.0,\n",
       " 23.80952380952381,\n",
       " 22.727272727272727,\n",
       " 21.73913043478261,\n",
       " 20.833333333333332,\n",
       " 20.0]"
      ]
     },
     "execution_count": 7,
     "metadata": {},
     "output_type": "execute_result"
    }
   ],
   "source": [
    "C2"
   ]
  },
  {
   "cell_type": "code",
   "execution_count": 6,
   "metadata": {},
   "outputs": [
    {
     "data": {
      "text/plain": [
       "[83.33333333333333,\n",
       " 71.42857142857143,\n",
       " 62.5,\n",
       " 55.55555555555556,\n",
       " 50.0,\n",
       " 45.45454545454545,\n",
       " 41.666666666666664,\n",
       " 38.46153846153846,\n",
       " 35.714285714285715,\n",
       " 33.333333333333336,\n",
       " 31.25,\n",
       " 29.41176470588235,\n",
       " 27.77777777777778,\n",
       " 26.31578947368421,\n",
       " 25.0,\n",
       " 23.80952380952381,\n",
       " 22.727272727272727,\n",
       " 21.73913043478261,\n",
       " 20.833333333333332,\n",
       " 20.0,\n",
       " 0.2]"
      ]
     },
     "execution_count": 6,
     "metadata": {},
     "output_type": "execute_result"
    }
   ],
   "source": [
    "C2 + [0.2]"
   ]
  },
  {
   "cell_type": "code",
   "execution_count": null,
   "metadata": {},
   "outputs": [],
   "source": []
  }
 ],
 "metadata": {
  "kernelspec": {
   "display_name": "Python 3",
   "language": "python",
   "name": "python3"
  },
  "language_info": {
   "codemirror_mode": {
    "name": "ipython",
    "version": 3
   },
   "file_extension": ".py",
   "mimetype": "text/x-python",
   "name": "python",
   "nbconvert_exporter": "python",
   "pygments_lexer": "ipython3",
   "version": "3.6.9"
  }
 },
 "nbformat": 4,
 "nbformat_minor": 2
}
