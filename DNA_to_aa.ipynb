{
 "cells": [
  {
   "cell_type": "markdown",
   "metadata": {},
   "source": [
    "# Convert DNA sequence to amino acid sequence"
   ]
  },
  {
   "cell_type": "code",
   "execution_count": 17,
   "metadata": {},
   "outputs": [],
   "source": [
    "DNA = 'gatcaacgcaaaggactaagcactgctgccaaaagccaccagccccagagacaacagagg'\n",
    "\n",
    "# Convert DNA to RNA (T to U)\n",
    "seq = ['U' if x=='T' else x for x in DNA.upper()]\n",
    "\n",
    "# Create string with RNA code (i.e convert T to U)\n",
    "RNA = ''.join(seq)"
   ]
  },
  {
   "cell_type": "code",
   "execution_count": 18,
   "metadata": {},
   "outputs": [],
   "source": [
    "# Create table converting RNA codons to amino acids\n",
    "aa_dict = {'UUU': 'F', # Phe\n",
    "           'UUC': 'F',\n",
    "           'UUA': 'L', # Leu\n",
    "           'UUG': 'L',\n",
    "           \n",
    "           'UCU': 'S', # Ser\n",
    "           'UCC': 'S',\n",
    "           'UCA': 'S',\n",
    "           'UCG': 'S',\n",
    "           \n",
    "           'UAU': 'Y', # Tyr\n",
    "           'UAC': 'Y',\n",
    "           'UAA': 'X', # Stop\n",
    "           'UAG': 'X', # Stop\n",
    "           \n",
    "           'UGU': 'C', # Cys\n",
    "           'UGC': 'C',\n",
    "           'UGA': 'X', # Stop\n",
    "           'UGG': 'W', # Trp \n",
    "           \n",
    "           'CUU': 'L', # Leu\n",
    "           'CUC': 'L',\n",
    "           'CUA': 'L', \n",
    "           'CUG': 'L',\n",
    "\n",
    "           'CCU': 'P', # Pro\n",
    "           'CCC': 'P',\n",
    "           'CCA': 'P', \n",
    "           'CCG': 'P',\n",
    "           \n",
    "           'CAU': 'H', # His\n",
    "           'CAC': 'H',\n",
    "           'CAA': 'Q', # Gln\n",
    "           'CAG': 'Q',\n",
    "\n",
    "           'CGU': 'R', # Arg\n",
    "           'CGC': 'R',\n",
    "           'CGA': 'R', \n",
    "           'CGG': 'R',\n",
    "\n",
    "           'AUU': 'I', # Ile\n",
    "           'AUC': 'I',\n",
    "           'AUA': 'I', \n",
    "           'AUG': 'M', # Met\n",
    "\n",
    "           'ACU': 'T', # Thr\n",
    "           'ACC': 'T',\n",
    "           'ACA': 'T', \n",
    "           'ACG': 'T',\n",
    "           \n",
    "           'AAU': 'N', # Asn\n",
    "           'AAC': 'N',\n",
    "           'AAA': 'K', # Lys\n",
    "           'AAG': 'K',\n",
    "\n",
    "           'AGU': 'S', # Ser\n",
    "           'AGC': 'S',\n",
    "           'AGA': 'R', # Arg\n",
    "           'AGG': 'R',\n",
    "\n",
    "           'GUU': 'V', # Val\n",
    "           'GUC': 'V',\n",
    "           'GUA': 'V', \n",
    "           'GUG': 'V',\n",
    "\n",
    "           'GCU': 'A', # Ala\n",
    "           'GCC': 'A',\n",
    "           'GCA': 'A', \n",
    "           'GCG': 'A',\n",
    "           \n",
    "           'GAU': 'D', # Asp\n",
    "           'GAC': 'D',\n",
    "           'GAA': 'E', # Glu\n",
    "           'GAG': 'E',\n",
    "\n",
    "           'GGU': 'G', # Gly\n",
    "           'GGC': 'G',\n",
    "           'GGA': 'G', \n",
    "           'GGG': 'G'}"
   ]
  },
  {
   "cell_type": "code",
   "execution_count": 19,
   "metadata": {},
   "outputs": [
    {
     "data": {
      "text/plain": [
       "'DQRKGLSTAAKSHQPQRQQR'"
      ]
     },
     "execution_count": 19,
     "metadata": {},
     "output_type": "execute_result"
    }
   ],
   "source": [
    "# Cut RNA into codons\n",
    "codons = [RNA[3*i:3*(i+1)] for i in range(int(len(RNA)/3))]\n",
    "\n",
    "# Convert codons into amino acids\n",
    "AA_list = [aa_dict[c] for c in codons]\n",
    "\n",
    "# Format AA sequence as a string\n",
    "AA_str = ''.join(AA_list)\n",
    "\n",
    "AA_str"
   ]
  },
  {
   "cell_type": "code",
   "execution_count": null,
   "metadata": {},
   "outputs": [],
   "source": []
  }
 ],
 "metadata": {
  "kernelspec": {
   "display_name": "Python 3",
   "language": "python",
   "name": "python3"
  },
  "language_info": {
   "codemirror_mode": {
    "name": "ipython",
    "version": 3
   },
   "file_extension": ".py",
   "mimetype": "text/x-python",
   "name": "python",
   "nbconvert_exporter": "python",
   "pygments_lexer": "ipython3",
   "version": "3.7.6"
  }
 },
 "nbformat": 4,
 "nbformat_minor": 2
}
