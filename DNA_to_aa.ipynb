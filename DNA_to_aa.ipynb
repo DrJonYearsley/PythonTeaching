{
 "cells": [
  {
   "cell_type": "markdown",
   "metadata": {},
   "source": [
    "# Convert DNA sequence to amino acid sequence"
   ]
  },
  {
   "cell_type": "markdown",
   "metadata": {},
   "source": [
    "The DNA code is made up of four letters: the nucleotides adenine (A), thymine (T), guanine (G) and cytosine (C). The first stage in converting a piece of DNA code into a protein is to transcribe the DNA into messanger RNA. Messange RNA has uses all the same letters as DNA except thymine (T). In RNA, thymine is replaced by uracil (U). "
   ]
  },
  {
   "cell_type": "markdown",
   "metadata": {},
   "source": [
    "Q1. Below is a short sequence of DNA. Write a for loop in Python to convert this DNA sequence into a messanger RNA sequence that uses upper case letters. The sequence can be in the form of a Python list."
   ]
  },
  {
   "cell_type": "code",
   "execution_count": 24,
   "metadata": {},
   "outputs": [],
   "source": [
    "DNA = 'gatcaacgcaaaggactaagcactgctgccaaaagccaccagccccagagacaacagagg'"
   ]
  },
  {
   "cell_type": "code",
   "execution_count": 25,
   "metadata": {},
   "outputs": [
    {
     "name": "stdout",
     "output_type": "stream",
     "text": [
      "['G', 'A', 'U', 'C', 'A', 'A', 'C', 'G', 'C', 'A', 'A', 'A', 'G', 'G', 'A', 'C', 'U', 'A', 'A', 'G', 'C', 'A', 'C', 'U', 'G', 'C', 'U', 'G', 'C', 'C', 'A', 'A', 'A', 'A', 'G', 'C', 'C', 'A', 'C', 'C', 'A', 'G', 'C', 'C', 'C', 'C', 'A', 'G', 'A', 'G', 'A', 'C', 'A', 'A', 'C', 'A', 'G', 'A', 'G', 'G']\n",
      "['G', 'A', 'U', 'C', 'A', 'A', 'C', 'G', 'C', 'A', 'A', 'A', 'G', 'G', 'A', 'C', 'U', 'A', 'A', 'G', 'C', 'A', 'C', 'U', 'G', 'C', 'U', 'G', 'C', 'C', 'A', 'A', 'A', 'A', 'G', 'C', 'C', 'A', 'C', 'C', 'A', 'G', 'C', 'C', 'C', 'C', 'A', 'G', 'A', 'G', 'A', 'C', 'A', 'A', 'C', 'A', 'G', 'A', 'G', 'G']\n"
     ]
    }
   ],
   "source": [
    "# ****************************************************        \n",
    "# Method 1, using a for loop\n",
    "RNA = []\n",
    "for i in range(len(DNA)):\n",
    "    # Make DNA code upper case\n",
    "    if DNA[i]=='a'or DNA[i]=='A': RNA.append('A')\n",
    "    if DNA[i]=='c'or DNA[i] == 'C': RNA.append('C')\n",
    "    if DNA[i]=='g'or DNA[i] == 'G': RNA.append('G')\n",
    "        \n",
    "    # Convert t (or T) U   \n",
    "    if DNA[i]=='t' or DNA[i]=='T': RNA.append('U')\n",
    "\n",
    "        \n",
    "print(RNA)\n",
    "\n",
    "\n",
    "# ****************************************************        \n",
    "# Method 2, using list comprehension\n",
    "\n",
    "# Convert DNA to RNA (T to U)\n",
    "RNA2 = ['U' if x=='T' else x for x in DNA.upper()]\n",
    "\n",
    "print(RNA2)"
   ]
  },
  {
   "cell_type": "markdown",
   "metadata": {},
   "source": [
    "Q2. To create a protein the messenger RNA is read in three letter words (called a codon). For example, 'UAGGCAAUU' is read as three codons, 'UAG GCA AUU'. Write some Python code to group your RNA sequence into codons and print the codons. \n",
    "\n",
    "Each codon should be a string (e.g. 'UAA') not a list (e.g. ['U', 'A', 'A]). A string can be created using the + operator (e.g. 'U' + 'A' + 'A')"
   ]
  },
  {
   "cell_type": "code",
   "execution_count": 26,
   "metadata": {},
   "outputs": [
    {
     "name": "stdout",
     "output_type": "stream",
     "text": [
      "['GAU', 'CAA', 'CGC', 'AAA', 'GGA', 'CUA', 'AGC', 'ACU', 'GCU', 'GCC', 'AAA', 'AGC', 'CAC', 'CAG', 'CCC', 'CAG', 'AGA', 'CAA', 'CAG', 'AGG']\n",
      "['GAU', 'CAA', 'CGC', 'AAA', 'GGA', 'CUA', 'AGC', 'ACU', 'GCU', 'GCC', 'AAA', 'AGC', 'CAC', 'CAG', 'CCC', 'CAG', 'AGA', 'CAA', 'CAG', 'AGG']\n"
     ]
    }
   ],
   "source": [
    "# ************************************************\n",
    "# Method 1 (using for loop): Cut RNA into codons\n",
    "\n",
    "codon_length = int(len(RNA)/3)\n",
    "codons = []\n",
    "for i in range(codon_length):\n",
    "    codons.append(RNA[3*i] + RNA[3*i+1] + RNA[3*i+2])\n",
    "\n",
    "print(codons)\n",
    "\n",
    "\n",
    "\n",
    "# ************************************************\n",
    "# Method 2 (using list comprehension): Cut RNA into codons\n",
    "codons2 = [RNA[3*i] + RNA[3*i+1] + RNA[3*i+2] for i in range(codon_length)]\n",
    "\n",
    "print(codons2)"
   ]
  },
  {
   "cell_type": "markdown",
   "metadata": {},
   "source": [
    "Q3. Below is a dictionary that gives the translation of each codon into one of the 21 amino acids (or a stop codon). Each amino acid is described by a letter. Write some python code to transcribe your codons into an amino acid sequence.\n",
    "\n",
    "The final amino acid sequence should be a string of capital letters."
   ]
  },
  {
   "cell_type": "code",
   "execution_count": 27,
   "metadata": {},
   "outputs": [],
   "source": [
    "# A dictionary for transcribing RNA codons to amino acids\n",
    "# Dictionary contains codon followed by amino acid letter (amino acid names are in comments)\n",
    "\n",
    "aa_dict = {'UUU': 'F', # Phe   phenylalanine\n",
    "           'UUC': 'F',\n",
    "           'UUA': 'L', # Leu   leucine\n",
    "           'UUG': 'L',\n",
    "           \n",
    "           'UCU': 'S', # Ser   serine\n",
    "           'UCC': 'S',\n",
    "           'UCA': 'S',\n",
    "           'UCG': 'S',\n",
    "           \n",
    "           'UAU': 'Y', # Tyr   tyrosine\n",
    "           'UAC': 'Y',\n",
    "           'UAA': 'X', # Stop codon\n",
    "           'UAG': 'X', # Stop codon\n",
    "           \n",
    "           'UGU': 'C', # Cys\n",
    "           'UGC': 'C',\n",
    "           'UGA': 'X', # Stop codon\n",
    "           'UGG': 'W', # Trp   tryptophan\n",
    "           \n",
    "           'CUU': 'L', # Leu   leucine\n",
    "           'CUC': 'L',\n",
    "           'CUA': 'L', \n",
    "           'CUG': 'L',\n",
    "\n",
    "           'CCU': 'P', # Pro   proline\n",
    "           'CCC': 'P',\n",
    "           'CCA': 'P', \n",
    "           'CCG': 'P',\n",
    "           \n",
    "           'CAU': 'H', # His   histidine\n",
    "           'CAC': 'H',\n",
    "           'CAA': 'Q', # Gln   glutamine\n",
    "           'CAG': 'Q',\n",
    "\n",
    "           'CGU': 'R', # Arg   arginine\n",
    "           'CGC': 'R',\n",
    "           'CGA': 'R', \n",
    "           'CGG': 'R',\n",
    "\n",
    "           'AUU': 'I', # Ile   isoleucine\n",
    "           'AUC': 'I',\n",
    "           'AUA': 'I', \n",
    "           'AUG': 'M', # Met   methionine \n",
    "\n",
    "           'ACU': 'T', # Thr   threonine\n",
    "           'ACC': 'T',\n",
    "           'ACA': 'T', \n",
    "           'ACG': 'T',\n",
    "           \n",
    "           'AAU': 'N', # Asn   asparagine\n",
    "           'AAC': 'N',\n",
    "           'AAA': 'K', # Lys   lysine\n",
    "           'AAG': 'K',\n",
    "\n",
    "           'AGU': 'S', # Ser   serine\n",
    "           'AGC': 'S',\n",
    "           'AGA': 'R', # Arg   arginine\n",
    "           'AGG': 'R',\n",
    "\n",
    "           'GUU': 'V', # Val   valine\n",
    "           'GUC': 'V',\n",
    "           'GUA': 'V', \n",
    "           'GUG': 'V',\n",
    "\n",
    "           'GCU': 'A', # Ala   alanine\n",
    "           'GCC': 'A',\n",
    "           'GCA': 'A', \n",
    "           'GCG': 'A',\n",
    "           \n",
    "           'GAU': 'D', # Asp   aspartic acid \n",
    "           'GAC': 'D',\n",
    "           'GAA': 'E', # Glu   glutamic acid\n",
    "           'GAG': 'E',\n",
    "\n",
    "           'GGU': 'G', # Gly   glycine \n",
    "           'GGC': 'G',\n",
    "           'GGA': 'G', \n",
    "           'GGG': 'G'}"
   ]
  },
  {
   "cell_type": "code",
   "execution_count": 28,
   "metadata": {},
   "outputs": [
    {
     "name": "stdout",
     "output_type": "stream",
     "text": [
      "Method 1:  DQRKGLSTAAKSHQPQRQQR\n",
      "Method 2:  DQRKGLSTAAKSHQPQRQQR\n"
     ]
    }
   ],
   "source": [
    "# ************************************************\n",
    "# Method 1 (using for loop): transcribe codons into amno acids\n",
    "\n",
    "AA = ''       # Create a blank string\n",
    "for c in codons:\n",
    "    AA += aa_dict[c]\n",
    "\n",
    "print('Method 1: ', AA)\n",
    "\n",
    "\n",
    "# ************************************************\n",
    "# Method 2 (using list compehension): transcribe codons into amno acids\n",
    "\n",
    "# Convert codons into amino acids and join the list elements \n",
    "#      using '' as a separator\n",
    "AA2 = ''.join([aa_dict[c] for c in codons])\n",
    "\n",
    "print('Method 2: ', AA2)"
   ]
  },
  {
   "cell_type": "markdown",
   "metadata": {},
   "source": [
    "Q4. Write a Python dictionary that relates each amino acid letter to the name of the amino acid (e.g. V is Valine). Use this dictionary to write out the names of the amino acid sequence from question 3."
   ]
  },
  {
   "cell_type": "code",
   "execution_count": 32,
   "metadata": {},
   "outputs": [],
   "source": [
    "aa_name_dict = {'A': 'alanine', 'R':'arginine', 'N':'asparagine', 'D': 'aspartic acid',\n",
    "                'C': 'cysteine','Q': 'glutamine','E': 'glutamic acid', 'G': 'glycine',\n",
    "                'H': 'histidine', 'I': 'isoleucine', 'L': 'leucine', 'K': 'lysine', \n",
    "                'M': 'methionine','F': 'phenylalanine', 'P': 'proline', 'S': 'serine',\n",
    "                'T': 'threonine','W': 'tryptophan','Y': 'tyrosine','V': 'valine', 'X': 'Stop'}"
   ]
  },
  {
   "cell_type": "code",
   "execution_count": 35,
   "metadata": {},
   "outputs": [
    {
     "name": "stdout",
     "output_type": "stream",
     "text": [
      "['aspartic acid', 'glutamine', 'arginine', 'lysine', 'glycine', 'leucine', 'serine', 'threonine', 'alanine', 'alanine', 'lysine', 'serine', 'histidine', 'glutamine', 'proline', 'glutamine', 'arginine', 'glutamine', 'glutamine', 'arginine']\n",
      "['aspartic acid', 'glutamine', 'arginine', 'lysine', 'glycine', 'leucine', 'serine', 'threonine', 'alanine', 'alanine', 'lysine', 'serine', 'histidine', 'glutamine', 'proline', 'glutamine', 'arginine', 'glutamine', 'glutamine', 'arginine']\n"
     ]
    }
   ],
   "source": [
    "# ************************************************\n",
    "# Method 1 (using for loop): name amno acids\n",
    "\n",
    "AA_names = []       # Create a blank list\n",
    "for a in range(len(AA)):\n",
    "    AA_names.append(aa_name_dict[AA[a]])\n",
    "\n",
    "print(AA_names)\n",
    "\n",
    "\n",
    "# ************************************************\n",
    "# Method 2 (using list compehension): transcribe codons into amno acids\n",
    "\n",
    "# Convert codons into amino acids and join the list elements \n",
    "#      using '' as a separator\n",
    "AA_names2 = [aa_name_dict[AA[a]] for a in range(len(AA))]\n",
    "\n",
    "print(AA_names2)"
   ]
  }
 ],
 "metadata": {
  "kernelspec": {
   "display_name": "Python 3",
   "language": "python",
   "name": "python3"
  },
  "language_info": {
   "codemirror_mode": {
    "name": "ipython",
    "version": 3
   },
   "file_extension": ".py",
   "mimetype": "text/x-python",
   "name": "python",
   "nbconvert_exporter": "python",
   "pygments_lexer": "ipython3",
   "version": "3.6.9"
  }
 },
 "nbformat": 4,
 "nbformat_minor": 2
}
