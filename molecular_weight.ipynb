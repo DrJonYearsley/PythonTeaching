{
 "cells": [
  {
   "cell_type": "markdown",
   "metadata": {},
   "source": [
    "# Decoding a chemical formula\n",
    "\n",
    "Script takes a string, which is a chemical formula, \n",
    "and converts this into the molecular weight of the molecule."
   ]
  },
  {
   "cell_type": "code",
   "execution_count": 1,
   "metadata": {},
   "outputs": [],
   "source": [
    "formula = \"H2SO4\"   # Define the chemical formula"
   ]
  },
  {
   "cell_type": "code",
   "execution_count": 2,
   "metadata": {},
   "outputs": [],
   "source": [
    "import re           # Load Regular Expression library\n",
    "\n",
    "# Define some atomic masses (g)\n",
    "atomic_mass = {'H':  1.01, \n",
    "               'He': 4.0026, \n",
    "               'Li': 6.941,\n",
    "               'Be': 9.01218,\n",
    "               'B':  10.81,\n",
    "               'C':  12.011, \n",
    "               'N':  14.0067, \n",
    "               'O':  15.9994,\n",
    "               'F':  18.998403,\n",
    "               'Ne': 20.179,\n",
    "               'Na': 22.98977,\n",
    "               'Mg': 24.305,\n",
    "               'Al': 26.98154,\n",
    "               'Si': 28.0855,\n",
    "               'P':  30.97376,\n",
    "               'S':  32.06,\n",
    "               'Cl': 35.453,\n",
    "               'K':  39.0983,\n",
    "               'Ar': 39.948,\n",
    "               'Ca': 40.08,\n",
    "               'Fe': 55.847}"
   ]
  },
  {
   "cell_type": "code",
   "execution_count": 3,
   "metadata": {},
   "outputs": [],
   "source": [
    "# Define a regular expression that seaches for names of elements \n",
    "# First letter capital and second letter lower case if it exists\n",
    "element = re.compile('[A-Z]{1}[a-z]{0,1}')\n",
    "\n",
    "# Extract the names of elements from the formula\n",
    "elements = [m.group() for m in re.finditer(element,formula)]\n",
    "\n",
    "# Find the atomic mass for each element in the formula\n",
    "mass = [atomic_mass[e] for e in elements]    \n",
    "    \n",
    "    \n",
    "# Split the formula using element names as separators\n",
    "# This will extract the number of atoms of each element\n",
    "nAtom = re.split(element, formula)\n",
    "nAtom.remove('')         # Remove first element\n",
    "\n",
    "# Replace blanks with 1\n",
    "nAtom[:] = ['1' if x=='' else x for x in nAtom]\n"
   ]
  },
  {
   "cell_type": "code",
   "execution_count": 4,
   "metadata": {},
   "outputs": [
    {
     "name": "stdout",
     "output_type": "stream",
     "text": [
      "H2SO4 has a molecular mass of   98.08 g\n"
     ]
    }
   ],
   "source": [
    "# Calculate the molecular mass of the molecule\n",
    "\n",
    "# Molecular mass of each component\n",
    "mol_comp = [mass[e] * float(nAtom[e]) for e in range(len(elements))]    \n",
    " \n",
    "# Add them up to find total molecular mass    \n",
    "mol_mass =  sum(mol_comp)  \n",
    "\n",
    "# Print the result\n",
    "print('{formula} has a molecular mass of {mass:7.2f} g'.format(formula=formula, mass=mol_mass))"
   ]
  },
  {
   "cell_type": "code",
   "execution_count": 5,
   "metadata": {},
   "outputs": [
    {
     "data": {
      "text/plain": [
       "['2', '1', '4']"
      ]
     },
     "execution_count": 5,
     "metadata": {},
     "output_type": "execute_result"
    }
   ],
   "source": [
    "nAtom"
   ]
  },
  {
   "cell_type": "code",
   "execution_count": 10,
   "metadata": {},
   "outputs": [
    {
     "ename": "SyntaxError",
     "evalue": "invalid syntax (<ipython-input-10-97bb96606985>, line 1)",
     "output_type": "error",
     "traceback": [
      "\u001b[0;36m  File \u001b[0;32m\"<ipython-input-10-97bb96606985>\"\u001b[0;36m, line \u001b[0;32m1\u001b[0m\n\u001b[0;31m    class(elements)\u001b[0m\n\u001b[0m         ^\u001b[0m\n\u001b[0;31mSyntaxError\u001b[0m\u001b[0;31m:\u001b[0m invalid syntax\n"
     ]
    }
   ],
   "source": []
  },
  {
   "cell_type": "code",
   "execution_count": null,
   "metadata": {},
   "outputs": [],
   "source": []
  }
 ],
 "metadata": {
  "kernelspec": {
   "display_name": "Python 3",
   "language": "python",
   "name": "python3"
  },
  "language_info": {
   "codemirror_mode": {
    "name": "ipython",
    "version": 3
   },
   "file_extension": ".py",
   "mimetype": "text/x-python",
   "name": "python",
   "nbconvert_exporter": "python",
   "pygments_lexer": "ipython3",
   "version": "3.7.6"
  }
 },
 "nbformat": 4,
 "nbformat_minor": 2
}
